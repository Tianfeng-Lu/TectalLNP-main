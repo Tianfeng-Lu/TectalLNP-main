{
 "cells": [
  {
   "cell_type": "markdown",
   "metadata": {},
   "source": [
    "# GLM model for tectum"
   ]
  },
  {
   "cell_type": "code",
   "execution_count": 1,
   "metadata": {},
   "outputs": [],
   "source": [
    "import numpy as np\n",
    "import matplotlib.pyplot as plt\n",
    "import scipy\n",
    "import pandas as pd"
   ]
  },
  {
   "cell_type": "code",
   "execution_count": 2,
   "metadata": {},
   "outputs": [],
   "source": [
    "params = scipy.io.loadmat(\"./optimized_params.mat\")['params'].squeeze()"
   ]
  },
  {
   "cell_type": "code",
   "execution_count": 3,
   "metadata": {},
   "outputs": [],
   "source": [
    "wc = params['wc'].flatten()[0].astype(np.float32) # neuron locations\n",
    "frame_dur = np.float32(params['frame_dur'])\n",
    "steps_per_frame = np.float32(params['steps_per_frame'])\n",
    "ex_sigma = np.float32(params['ex_sigma'])\n",
    "in_sigma = np.float32(params['in_sigma'])\n",
    "ex_tau_sec = np.float32(params['ex_tau_sec'])\n",
    "in_tau_sec = np.float32(params['in_tau_sec'])\n",
    "ex_gain = np.float32(params['ex_gain'])\n",
    "in_gain = np.float32(params['in_gain'])\n",
    "run_steps = np.float32(params['run_steps'])\n",
    "hemisphere_correction = np.float32(params['hemisphere_correction'])\n",
    "dc = np.float32(params['dc'])\n",
    "random_seed = np.float32(params['random_seed'])\n",
    "transient_steps = np.float32(params['transient_steps'])\n",
    "dtSp = frame_dur/steps_per_frame\n",
    "ex_tau_steps = ex_tau_sec/dtSp\n",
    "in_tau_steps = in_tau_sec/dtSp\n",
    "inhibition_downsample = 100\n",
    "iht_ex=np.arange(0, ex_tau_steps*5, dtype=np.float32)\n",
    "iht_in=np.arange(0, in_tau_steps*5, inhibition_downsample, dtype=np.float32)\n",
    "ihcpl_ex = ex_gain*np.exp(-iht_ex/ex_tau_steps)\n",
    "ihcpl_in = in_gain*np.exp(-iht_in/in_tau_steps)\n",
    "n_neuron = wc.shape[0]"
   ]
  },
  {
   "cell_type": "code",
   "execution_count": 21,
   "metadata": {},
   "outputs": [],
   "source": [
    "slen = int(run_steps+transient_steps)\n",
    "Istm = np.zeros((slen, n_neuron), dtype=np.float32)\n",
    "initial_inhibition = (10*(-np.exp(-(np.arange(1, transient_steps+1))/(transient_steps/5)))).T\n",
    "Istm[:int(transient_steps), :] = np.repeat(initial_inhibition[:, None], axis=1, repeats=n_neuron)\n",
    "Istm = Istm + dc # add dc"
   ]
  },
  {
   "cell_type": "code",
   "execution_count": 4,
   "metadata": {},
   "outputs": [],
   "source": [
    "# generate weight masks\n",
    "left_inds = wc[:, 1] > 309\n",
    "right_inds = wc[:, 1] <= 309\n",
    "w_ex = np.zeros((n_neuron, n_neuron))\n",
    "w_in = np.zeros((n_neuron, n_neuron))\n",
    "\n",
    "for jj in range(n_neuron):\n",
    "    cl1 = wc[jj, :]\n",
    "    dists = np.sqrt((cl1[0]-wc[:, 0])**2 + (cl1[1]-wc[:, 1])**2 + (cl1[2]-wc[:, 2])**2)\n",
    "    if left_inds[jj]:\n",
    "        same_hemisphere = left_inds\n",
    "    else:\n",
    "        same_hemisphere = right_inds\n",
    "    hc = np.zeros(n_neuron)\n",
    "    hc[same_hemisphere] = 1\n",
    "    hc[~same_hemisphere] = hemisphere_correction\n",
    "\n",
    "    w_ex[jj, :] = np.exp(-dists**2 / (2 * ex_sigma**2)) * hc\n",
    "    w_in[jj, :] = np.exp(-dists**2 / (2 * in_sigma**2)) * hc\n",
    "\n",
    "## why this is so slow? \n",
    "# hemisphere_mask = np.where(wc[:, 1] > 309, 1, -1)\n",
    "# hemisphere_mask = hemisphere_mask[:, None] @ hemisphere_mask[None, :]\n",
    "# hemisphere_mask = np.where(hemisphere_mask == 1, 1, hemisphere_correction)\n",
    "# pairwise_dist = scipy.spatial.distance.squareform(scipy.spatial.distance.pdist(wc))\n",
    "# w_ex2 = np.exp(-pairwise_dist**2 / (2 * ex_sigma**2)) * hemisphere_mask\n",
    "# w_in2 = np.exp(-pairwise_dist**2 / (2 * in_sigma**2)) * hemisphere_mask"
   ]
  },
  {
   "cell_type": "code",
   "execution_count": null,
   "metadata": {},
   "outputs": [],
   "source": [
    "ex_filt = ihcpl_ex\n",
    "in_filt = ihcpl_in"
   ]
  },
  {
   "cell_type": "code",
   "execution_count": 20,
   "metadata": {},
   "outputs": [
    {
     "data": {
      "text/plain": [
       "20000.0"
      ]
     },
     "execution_count": 20,
     "metadata": {},
     "output_type": "execute_result"
    }
   ],
   "source": [
    "slen"
   ]
  },
  {
   "cell_type": "code",
   "execution_count": null,
   "metadata": {},
   "outputs": [],
   "source": [
    "left_edge = 0\n",
    "while left_edge <= slen:"
   ]
  }
 ],
 "metadata": {
  "kernelspec": {
   "display_name": "Python 3",
   "language": "python",
   "name": "python3"
  },
  "language_info": {
   "codemirror_mode": {
    "name": "ipython",
    "version": 3
   },
   "file_extension": ".py",
   "mimetype": "text/x-python",
   "name": "python",
   "nbconvert_exporter": "python",
   "pygments_lexer": "ipython3",
   "version": "3.8.19"
  }
 },
 "nbformat": 4,
 "nbformat_minor": 2
}
