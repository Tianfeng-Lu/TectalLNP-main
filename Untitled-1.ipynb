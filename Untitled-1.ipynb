{
 "cells": [
  {
   "cell_type": "markdown",
   "metadata": {},
   "source": [
    "# GLM model for tectum"
   ]
  },
  {
   "cell_type": "code",
   "execution_count": 1,
   "metadata": {},
   "outputs": [],
   "source": [
    "import numpy as np\n",
    "import matplotlib.pyplot as plt\n",
    "import scipy\n",
    "import pandas as pd"
   ]
  },
  {
   "cell_type": "code",
   "execution_count": 2,
   "metadata": {},
   "outputs": [],
   "source": [
    "params = scipy.io.loadmat(\"./optimized_params.mat\")['params'].squeeze()"
   ]
  },
  {
   "cell_type": "code",
   "execution_count": 3,
   "metadata": {},
   "outputs": [],
   "source": [
    "wc = params['wc'].flatten()[0].astype(np.float32) # neuron locations\n",
    "frame_dur = np.float32(params['frame_dur'])\n",
    "steps_per_frame = np.float32(params['steps_per_frame'])\n",
    "ex_sigma = np.float32(params['ex_sigma'])\n",
    "in_sigma = np.float32(params['in_sigma'])\n",
    "ex_tau_sec = np.float32(params['ex_tau_sec'])\n",
    "in_tau_sec = np.float32(params['in_tau_sec'])\n",
    "ex_gain = np.float32(params['ex_gain'])\n",
    "in_gain = np.float32(params['in_gain'])\n",
    "run_steps = np.float32(params['run_steps'])\n",
    "hemisphere_correction = np.float32(params['hemisphere_correction'])\n",
    "dc = np.float32(params['dc'])\n",
    "random_seed = np.float32(params['random_seed'])\n",
    "transient_steps = np.float32(params['transient_steps'])\n",
    "dtSp = frame_dur/steps_per_frame\n",
    "ex_tau_steps = ex_tau_sec/dtSp\n",
    "in_tau_steps = in_tau_sec/dtSp\n",
    "inhibition_downsample = 100\n",
    "iht_ex=np.arange(0, ex_tau_steps*5, dtype=np.float32)\n",
    "iht_in=np.arange(0, in_tau_steps*5, inhibition_downsample, dtype=np.float32)\n",
    "ihcpl_ex = ex_gain*np.exp(-iht_ex/ex_tau_steps)\n",
    "ihcpl_in = in_gain*np.exp(-iht_in/in_tau_steps)\n",
    "n_neuron = wc.shape[0]"
   ]
  },
  {
   "cell_type": "code",
   "execution_count": 4,
   "metadata": {},
   "outputs": [],
   "source": [
    "slen = int(run_steps+transient_steps)\n",
    "Istm = np.zeros((slen, n_neuron), dtype=np.float32)\n",
    "initial_inhibition = (10*(-np.exp(-(np.arange(1, transient_steps+1))/(transient_steps/5)))).T\n",
    "Istm[:int(transient_steps), :] = np.repeat(initial_inhibition[:, None], axis=1, repeats=n_neuron)\n",
    "Istm = Istm + dc # add dc"
   ]
  },
  {
   "cell_type": "code",
   "execution_count": 5,
   "metadata": {},
   "outputs": [],
   "source": [
    "# generate weight masks\n",
    "left_inds = wc[:, 1] > 309\n",
    "right_inds = wc[:, 1] <= 309\n",
    "w_ex = np.zeros((n_neuron, n_neuron))\n",
    "w_in = np.zeros((n_neuron, n_neuron))\n",
    "\n",
    "for jj in range(n_neuron):\n",
    "    cl1 = wc[jj, :]\n",
    "    dists = np.sqrt((cl1[0]-wc[:, 0])**2 + (cl1[1]-wc[:, 1])**2 + (cl1[2]-wc[:, 2])**2)\n",
    "    if left_inds[jj]:\n",
    "        same_hemisphere = left_inds\n",
    "    else:\n",
    "        same_hemisphere = right_inds\n",
    "    hc = np.zeros(n_neuron)\n",
    "    hc[same_hemisphere] = 1\n",
    "    hc[~same_hemisphere] = hemisphere_correction\n",
    "\n",
    "    w_ex[jj, :] = np.exp(-dists**2 / (2 * ex_sigma**2)) * hc\n",
    "    w_in[jj, :] = np.exp(-dists**2 / (2 * in_sigma**2)) * hc\n",
    "\n",
    "## why this is so slow? \n",
    "# hemisphere_mask = np.where(wc[:, 1] > 309, 1, -1)\n",
    "# hemisphere_mask = hemisphere_mask[:, None] @ hemisphere_mask[None, :]\n",
    "# hemisphere_mask = np.where(hemisphere_mask == 1, 1, hemisphere_correction)\n",
    "# pairwise_dist = scipy.spatial.distance.squareform(scipy.spatial.distance.pdist(wc))\n",
    "# w_ex2 = np.exp(-pairwise_dist**2 / (2 * ex_sigma**2)) * hemisphere_mask\n",
    "# w_in2 = np.exp(-pairwise_dist**2 / (2 * in_sigma**2)) * hemisphere_mask"
   ]
  },
  {
   "cell_type": "code",
   "execution_count": 6,
   "metadata": {},
   "outputs": [],
   "source": [
    "ex_filt = ihcpl_ex[None, :]\n",
    "in_filt = ihcpl_in[None, :]\n",
    "membrane_potential = np.zeros((n_neuron, 1), dtype=np.float32) # current membrane potential for each neuron\n",
    "I_ex = Istm.T\n",
    "rlen_in = int(I_ex.shape[1]/inhibition_downsample)\n",
    "I_in = np.zeros((I_ex.shape[0], rlen_in+2), dtype=np.float32)\n",
    "linear_drive = np.zeros((I_ex.shape[0], slen), dtype=np.float32)\n",
    "n_spikes_neuron = np.zeros((n_neuron, 1), dtype=np.float32)\n",
    "n_spikes_time = np.zeros((1, slen), dtype=np.float32)\n",
    "dt = dtSp\n",
    "next_spike_time = np.random.exponential(1, size=(n_neuron, 1))\n",
    "spike_times = [[] for i in range(n_neuron)]"
   ]
  },
  {
   "cell_type": "code",
   "execution_count": 7,
   "metadata": {},
   "outputs": [
    {
     "name": "stderr",
     "output_type": "stream",
     "text": [
      "Simulating:   0%|          | 0/20000 [00:00<?, ?it/s]"
     ]
    },
    {
     "name": "stderr",
     "output_type": "stream",
     "text": [
      "Bin: 1 Spiking cells 14597:   0%|          | 1/20000 [00:02<12:09:02,  2.19s/it]C:\\Users\\happy puppy\\AppData\\Local\\Temp\\ipykernel_11516\\2508600280.py:12: RuntimeWarning: overflow encountered in exp\n",
      "  instantaneous_potential = np.exp(total_input) # instantaneous firing rate (membrane potential)\n",
      "Bin: 17600 Spiking cells 481:  72%|███████▏  | 14346/20000 [09:11<05:00, 18.83it/s] "
     ]
    },
    {
     "ename": "ValueError",
     "evalue": "operands could not be broadcast together with shapes (14597,24) (14597,25) (14597,24) ",
     "output_type": "error",
     "traceback": [
      "\u001b[1;31m---------------------------------------------------------------------------\u001b[0m",
      "\u001b[1;31mValueError\u001b[0m                                Traceback (most recent call last)",
      "Cell \u001b[1;32mIn[7], line 39\u001b[0m\n\u001b[0;32m     37\u001b[0m next_weight \u001b[38;5;241m=\u001b[39m actual_spike_time \u001b[38;5;241m/\u001b[39m inhibition_downsample \u001b[38;5;241m-\u001b[39m actual_spike_time_inhibitory\n\u001b[0;32m     38\u001b[0m I_in[:, (actual_spike_time_inhibitory\u001b[38;5;241m+\u001b[39m\u001b[38;5;241m1\u001b[39m): (inhibitory_border\u001b[38;5;241m+\u001b[39m\u001b[38;5;241m1\u001b[39m)] \u001b[38;5;241m+\u001b[39m\u001b[38;5;241m=\u001b[39m (\u001b[38;5;241m1\u001b[39m\u001b[38;5;241m-\u001b[39mnext_weight)\u001b[38;5;241m*\u001b[39moutgoing_total_inhibitory[:, \u001b[38;5;241m0\u001b[39m: (inhibitory_border\u001b[38;5;241m-\u001b[39mactual_spike_time_inhibitory)]        \n\u001b[1;32m---> 39\u001b[0m I_in[:, (actual_spike_time_inhibitory\u001b[38;5;241m+\u001b[39m\u001b[38;5;241m2\u001b[39m): (inhibitory_border\u001b[38;5;241m+\u001b[39m\u001b[38;5;241m2\u001b[39m)] \u001b[38;5;241m+\u001b[39m\u001b[38;5;241m=\u001b[39m (\u001b[38;5;241m1\u001b[39m\u001b[38;5;241m-\u001b[39mnext_weight)\u001b[38;5;241m*\u001b[39moutgoing_total_inhibitory[:, \u001b[38;5;241m0\u001b[39m: (inhibitory_border\u001b[38;5;241m-\u001b[39mactual_spike_time_inhibitory)]\n\u001b[0;32m     41\u001b[0m \u001b[38;5;66;03m# collect spike times\u001b[39;00m\n\u001b[0;32m     42\u001b[0m \u001b[38;5;28;01mfor\u001b[39;00m i \u001b[38;5;129;01min\u001b[39;00m spike_cells:\n",
      "\u001b[1;31mValueError\u001b[0m: operands could not be broadcast together with shapes (14597,24) (14597,25) (14597,24) "
     ]
    },
    {
     "name": "stderr",
     "output_type": "stream",
     "text": [
      "Bin: 17600 Spiking cells 481:  72%|███████▏  | 14346/20000 [09:30<05:00, 18.83it/s]"
     ]
    }
   ],
   "source": [
    "from tqdm import tqdm\n",
    "tbar = tqdm(range(slen), desc='Simulating', total=slen)\n",
    "\n",
    "left_edge = 0\n",
    "nbinsPerEval = 100 \n",
    "while left_edge < slen: # do the simulation in chunks\n",
    "    chunk_inds = np.arange(left_edge, min(left_edge+nbinsPerEval, slen)) # indices of the current chunk\n",
    "    next_weight = left_edge/inhibition_downsample - left_edge//inhibition_downsample\n",
    "    interp_inhibition = (1-next_weight) * I_in[:, left_edge//inhibition_downsample] + next_weight * I_in[:, left_edge//inhibition_downsample + 1]\n",
    "    total_input = I_ex[:, chunk_inds] - interp_inhibition[:, None] # linear drive\n",
    "    linear_drive[:, chunk_inds] = total_input\n",
    "    instantaneous_potential = np.exp(total_input) # instantaneous firing rate (membrane potential)\n",
    "    cumulative_potential = membrane_potential + np.cumsum(instantaneous_potential, axis=1)*dt  # Cumulative intensity\n",
    "\n",
    "    next_spike_time_expanded = np.repeat(next_spike_time, axis=1, repeats=len(chunk_inds)) # expand to the size of the cumulative potential, along the time axis\n",
    "    cell_idx, time_idx = np.where(cumulative_potential - next_spike_time_expanded > 0) # time to next spike\n",
    "    if len(cell_idx) <= 0:\n",
    "        left_edge = chunk_inds[-1]+1 # skip the whole chunk\n",
    "        membrane_potential = cumulative_potential[:, [-1]]\n",
    "    else: # have spike\n",
    "        spike_cells = np.unique(cell_idx[time_idx == min(time_idx)]) # cell inds with the mimimum time to next spike\n",
    "        actual_spike_time = chunk_inds[min(time_idx)] # actual spike time\n",
    "        membrane_potential = cumulative_potential[:, [min(time_idx)]]\n",
    "\n",
    "        if actual_spike_time >= slen:\n",
    "            left_edge = actual_spike_time\n",
    "            break\n",
    "        # deal with the current due to this spike\n",
    "        excitatory_border = min(slen, actual_spike_time+ex_filt.shape[1])\n",
    "        actual_spike_time_inhibitory = actual_spike_time // inhibition_downsample\n",
    "        inhibitory_border = min(slen, actual_spike_time_inhibitory+in_filt.shape[1])\n",
    "\n",
    "        # use the formula I_spatial @ Spikes @ I_temporal, (N, #spike_cells) @ (#spike_cells, 1) @ (1, #time_steps)\n",
    "        outgoing_total_excitatory = w_ex[:, spike_cells] @ np.ones((len(spike_cells),1), dtype=np.float32) @ ex_filt\n",
    "        outgoing_total_inhibitory = w_in[:, spike_cells] @ np.ones((len(spike_cells),1), dtype=np.float32) @ in_filt\n",
    "        I_ex[:, (actual_spike_time+1):(excitatory_border+1)] += outgoing_total_excitatory[:, 0:(excitatory_border-actual_spike_time)]\n",
    "        next_weight = actual_spike_time / inhibition_downsample - actual_spike_time_inhibitory\n",
    "        I_in[:, (actual_spike_time_inhibitory+1): (inhibitory_border+1)] += (1-next_weight)*outgoing_total_inhibitory[:, 0: (inhibitory_border-actual_spike_time_inhibitory)]        \n",
    "        I_in[:, (actual_spike_time_inhibitory+2): (inhibitory_border+2)] += (1-next_weight)*outgoing_total_inhibitory[:, 0: (inhibitory_border-actual_spike_time_inhibitory)]\n",
    "        \n",
    "        # collect spike times\n",
    "        for i in spike_cells:\n",
    "            spike_times[i].append(actual_spike_time*dt)\n",
    "        \n",
    "        # reset neuron potential\n",
    "        membrane_potential[spike_cells] = 0\n",
    "        n_spikes_neuron[spike_cells] += 1\n",
    "        next_spike_time[spike_cells] = np.random.exponential(1, size=(len(spike_cells), 1))\n",
    "        n_spikes_time[:, actual_spike_time] = len(spike_cells)\n",
    "        left_edge = actual_spike_time+1\n",
    "\n",
    "    muISI = left_edge/(sum(n_spikes_neuron))\n",
    "    nbinsPerEval = max(20, np.round(1.5*muISI))\n",
    "    tbar.update(1)\n",
    "    tbar.set_description(f'Bin: {left_edge} Spiking cells {len(spike_cells)}')\n"
   ]
  },
  {
   "cell_type": "code",
   "execution_count": 10,
   "metadata": {},
   "outputs": [
    {
     "data": {
      "text/plain": [
       "203"
      ]
     },
     "execution_count": 10,
     "metadata": {},
     "output_type": "execute_result"
    }
   ],
   "source": [
    "(inhibitory_border+2)"
   ]
  },
  {
   "cell_type": "code",
   "execution_count": 12,
   "metadata": {},
   "outputs": [
    {
     "data": {
      "text/plain": [
       "(14597, 202)"
      ]
     },
     "execution_count": 12,
     "metadata": {},
     "output_type": "execute_result"
    }
   ],
   "source": [
    "I_in.shape"
   ]
  },
  {
   "cell_type": "code",
   "execution_count": 9,
   "metadata": {},
   "outputs": [
    {
     "data": {
      "text/plain": [
       "(14597, 24)"
      ]
     },
     "execution_count": 9,
     "metadata": {},
     "output_type": "execute_result"
    }
   ],
   "source": [
    "I_in[:, (actual_spike_time_inhibitory+2): (inhibitory_border+2)].shape"
   ]
  },
  {
   "cell_type": "code",
   "execution_count": 8,
   "metadata": {},
   "outputs": [
    {
     "data": {
      "text/plain": [
       "(14597, 25)"
      ]
     },
     "execution_count": 8,
     "metadata": {},
     "output_type": "execute_result"
    }
   ],
   "source": [
    "outgoing_total_inhibitory.shape"
   ]
  }
 ],
 "metadata": {
  "kernelspec": {
   "display_name": "Python 3",
   "language": "python",
   "name": "python3"
  },
  "language_info": {
   "codemirror_mode": {
    "name": "ipython",
    "version": 3
   },
   "file_extension": ".py",
   "mimetype": "text/x-python",
   "name": "python",
   "nbconvert_exporter": "python",
   "pygments_lexer": "ipython3",
   "version": "3.8.19"
  }
 },
 "nbformat": 4,
 "nbformat_minor": 2
}
